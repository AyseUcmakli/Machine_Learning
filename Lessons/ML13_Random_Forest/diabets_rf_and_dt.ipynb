{
 "cells": [
  {
   "cell_type": "markdown",
   "id": "48e2b468",
   "metadata": {},
   "source": [
    "# DT and RF Scoring for diabetes dataset"
   ]
  },
  {
   "cell_type": "code",
   "execution_count": 1,
   "id": "d4840c84",
   "metadata": {},
   "outputs": [],
   "source": [
    "import pandas as pd\n",
    "import numpy as np\n",
    "import matplotlib.pyplot as plt\n",
    "import seaborn as sns\n",
    "%matplotlib inline\n",
    "\n",
    "plt.rcParams[\"figure.figsize\"] = (7,4)\n",
    "import warnings\n",
    "warnings.filterwarnings('ignore')\n",
    "pd.set_option('display.max_rows', 1000)\n",
    "pd.set_option('display.max_columns', 1000)\n",
    "#pd.set_option('display.width', 1000)\n",
    "#pd.set_option('display.float_format', lambda x: '%.3f' % x)"
   ]
  },
  {
   "cell_type": "code",
   "execution_count": 2,
   "id": "bab88377",
   "metadata": {},
   "outputs": [],
   "source": [
    "df = pd.read_csv(\"diabetes.csv\")"
   ]
  },
  {
   "cell_type": "code",
   "execution_count": 3,
   "id": "d18e2098",
   "metadata": {},
   "outputs": [
    {
     "data": {
      "text/html": [
       "<div>\n",
       "<style scoped>\n",
       "    .dataframe tbody tr th:only-of-type {\n",
       "        vertical-align: middle;\n",
       "    }\n",
       "\n",
       "    .dataframe tbody tr th {\n",
       "        vertical-align: top;\n",
       "    }\n",
       "\n",
       "    .dataframe thead th {\n",
       "        text-align: right;\n",
       "    }\n",
       "</style>\n",
       "<table border=\"1\" class=\"dataframe\">\n",
       "  <thead>\n",
       "    <tr style=\"text-align: right;\">\n",
       "      <th></th>\n",
       "      <th>Pregnancies</th>\n",
       "      <th>Glucose</th>\n",
       "      <th>BloodPressure</th>\n",
       "      <th>SkinThickness</th>\n",
       "      <th>Insulin</th>\n",
       "      <th>BMI</th>\n",
       "      <th>DiabetesPedigreeFunction</th>\n",
       "      <th>Age</th>\n",
       "      <th>Outcome</th>\n",
       "    </tr>\n",
       "  </thead>\n",
       "  <tbody>\n",
       "    <tr>\n",
       "      <th>0</th>\n",
       "      <td>6</td>\n",
       "      <td>148</td>\n",
       "      <td>72</td>\n",
       "      <td>35</td>\n",
       "      <td>0</td>\n",
       "      <td>33.6</td>\n",
       "      <td>0.627</td>\n",
       "      <td>50</td>\n",
       "      <td>1</td>\n",
       "    </tr>\n",
       "    <tr>\n",
       "      <th>1</th>\n",
       "      <td>1</td>\n",
       "      <td>85</td>\n",
       "      <td>66</td>\n",
       "      <td>29</td>\n",
       "      <td>0</td>\n",
       "      <td>26.6</td>\n",
       "      <td>0.351</td>\n",
       "      <td>31</td>\n",
       "      <td>0</td>\n",
       "    </tr>\n",
       "    <tr>\n",
       "      <th>2</th>\n",
       "      <td>8</td>\n",
       "      <td>183</td>\n",
       "      <td>64</td>\n",
       "      <td>0</td>\n",
       "      <td>0</td>\n",
       "      <td>23.3</td>\n",
       "      <td>0.672</td>\n",
       "      <td>32</td>\n",
       "      <td>1</td>\n",
       "    </tr>\n",
       "    <tr>\n",
       "      <th>3</th>\n",
       "      <td>1</td>\n",
       "      <td>89</td>\n",
       "      <td>66</td>\n",
       "      <td>23</td>\n",
       "      <td>94</td>\n",
       "      <td>28.1</td>\n",
       "      <td>0.167</td>\n",
       "      <td>21</td>\n",
       "      <td>0</td>\n",
       "    </tr>\n",
       "    <tr>\n",
       "      <th>4</th>\n",
       "      <td>0</td>\n",
       "      <td>137</td>\n",
       "      <td>40</td>\n",
       "      <td>35</td>\n",
       "      <td>168</td>\n",
       "      <td>43.1</td>\n",
       "      <td>2.288</td>\n",
       "      <td>33</td>\n",
       "      <td>1</td>\n",
       "    </tr>\n",
       "  </tbody>\n",
       "</table>\n",
       "</div>"
      ],
      "text/plain": [
       "   Pregnancies  Glucose  BloodPressure  SkinThickness  Insulin   BMI  \\\n",
       "0            6      148             72             35        0  33.6   \n",
       "1            1       85             66             29        0  26.6   \n",
       "2            8      183             64              0        0  23.3   \n",
       "3            1       89             66             23       94  28.1   \n",
       "4            0      137             40             35      168  43.1   \n",
       "\n",
       "   DiabetesPedigreeFunction  Age  Outcome  \n",
       "0                     0.627   50        1  \n",
       "1                     0.351   31        0  \n",
       "2                     0.672   32        1  \n",
       "3                     0.167   21        0  \n",
       "4                     2.288   33        1  "
      ]
     },
     "execution_count": 3,
     "metadata": {},
     "output_type": "execute_result"
    }
   ],
   "source": [
    "df.head()"
   ]
  },
  {
   "cell_type": "markdown",
   "id": "0b091cb5",
   "metadata": {},
   "source": [
    "## Cleaning Outliers"
   ]
  },
  {
   "cell_type": "code",
   "execution_count": 4,
   "id": "5855e575",
   "metadata": {},
   "outputs": [],
   "source": [
    "df=df[df.SkinThickness<70]\n",
    "df=df[df.Glucose>0]\n",
    "df=df[df.BloodPressure>35]\n",
    "df=df[df.BMI>0]\n",
    "\n",
    "# outlierlardan hızlı pratik bir şekilde temizliyoruz.\n",
    "#daha önce bu datayı uzunca incelediğimiz için gerekli cleaningi yapıyoruz."
   ]
  },
  {
   "cell_type": "code",
   "execution_count": 5,
   "id": "65b23f73",
   "metadata": {},
   "outputs": [
    {
     "name": "stdout",
     "output_type": "stream",
     "text": [
      "<class 'pandas.core.frame.DataFrame'>\n",
      "Int64Index: 720 entries, 0 to 767\n",
      "Data columns (total 9 columns):\n",
      " #   Column                    Non-Null Count  Dtype  \n",
      "---  ------                    --------------  -----  \n",
      " 0   Pregnancies               720 non-null    int64  \n",
      " 1   Glucose                   720 non-null    int64  \n",
      " 2   BloodPressure             720 non-null    int64  \n",
      " 3   SkinThickness             720 non-null    int64  \n",
      " 4   Insulin                   720 non-null    int64  \n",
      " 5   BMI                       720 non-null    float64\n",
      " 6   DiabetesPedigreeFunction  720 non-null    float64\n",
      " 7   Age                       720 non-null    int64  \n",
      " 8   Outcome                   720 non-null    int64  \n",
      "dtypes: float64(2), int64(7)\n",
      "memory usage: 56.2 KB\n"
     ]
    }
   ],
   "source": [
    "df.info()"
   ]
  },
  {
   "cell_type": "code",
   "execution_count": 6,
   "id": "fae9e0f3",
   "metadata": {},
   "outputs": [
    {
     "data": {
      "text/plain": [
       "0    473\n",
       "1    247\n",
       "Name: Outcome, dtype: int64"
      ]
     },
     "execution_count": 6,
     "metadata": {},
     "output_type": "execute_result"
    }
   ],
   "source": [
    "df.Outcome.value_counts()\n",
    "#imbalanced olabilir.."
   ]
  },
  {
   "cell_type": "markdown",
   "id": "4e827ad9",
   "metadata": {},
   "source": [
    "## Train | Test Split and Scalling"
   ]
  },
  {
   "cell_type": "code",
   "execution_count": 7,
   "id": "5bf0642f",
   "metadata": {},
   "outputs": [],
   "source": [
    "X = df.drop(\"Outcome\",axis=1)\n",
    "y = df[\"Outcome\"]"
   ]
  },
  {
   "cell_type": "code",
   "execution_count": 8,
   "id": "36b54d26",
   "metadata": {},
   "outputs": [],
   "source": [
    "from sklearn.model_selection import train_test_split\n",
    "\n",
    "X_train, X_test, y_train, y_test = train_test_split(X, y, test_size=0.2, stratify=y, random_state=101)"
   ]
  },
  {
   "cell_type": "markdown",
   "id": "7e19d57e",
   "metadata": {},
   "source": [
    "## Modelling and Model Performance"
   ]
  },
  {
   "cell_type": "markdown",
   "id": "4537e7ee",
   "metadata": {},
   "source": [
    "### Decision Tree"
   ]
  },
  {
   "cell_type": "code",
   "execution_count": 9,
   "id": "9319bb26",
   "metadata": {},
   "outputs": [],
   "source": [
    "from sklearn.metrics import confusion_matrix, classification_report, accuracy_score, recall_score, precision_score,f1_score\n",
    "\n",
    "def eval_metric(model, X_train, y_train, X_test, y_test):\n",
    "    y_train_pred = model.predict(X_train)\n",
    "    y_pred = model.predict(X_test)\n",
    "    \n",
    "    print(\"Test_Set\")\n",
    "    print(confusion_matrix(y_test, y_pred))\n",
    "    print(classification_report(y_test, y_pred))\n",
    "    print()\n",
    "    print(\"Train_Set\")\n",
    "    print(confusion_matrix(y_train, y_train_pred))\n",
    "    print(classification_report(y_train, y_train_pred))\n",
    "\n",
    "# predict işlemi test datasını train datasındaki unique kategorik verilere göre transforma tabi tutarak numeric verilere \n",
    "# dönüştürüyor.\n",
    "\n",
    "# pipeline içerisinde make_column_transform olduğundan df yapısı train datasında olduğu gibi değiştiriliyor ve predict edilmek \n",
    "# üzere ilgili modele gönderiliyor."
   ]
  },
  {
   "cell_type": "code",
   "execution_count": 10,
   "id": "a581d3b6",
   "metadata": {},
   "outputs": [
    {
     "name": "stdout",
     "output_type": "stream",
     "text": [
      "Test_Set\n",
      "[[75 20]\n",
      " [23 26]]\n",
      "              precision    recall  f1-score   support\n",
      "\n",
      "           0       0.77      0.79      0.78        95\n",
      "           1       0.57      0.53      0.55        49\n",
      "\n",
      "    accuracy                           0.70       144\n",
      "   macro avg       0.67      0.66      0.66       144\n",
      "weighted avg       0.70      0.70      0.70       144\n",
      "\n",
      "\n",
      "Train_Set\n",
      "[[378   0]\n",
      " [  0 198]]\n",
      "              precision    recall  f1-score   support\n",
      "\n",
      "           0       1.00      1.00      1.00       378\n",
      "           1       1.00      1.00      1.00       198\n",
      "\n",
      "    accuracy                           1.00       576\n",
      "   macro avg       1.00      1.00      1.00       576\n",
      "weighted avg       1.00      1.00      1.00       576\n",
      "\n"
     ]
    }
   ],
   "source": [
    "from sklearn.tree import DecisionTreeClassifier\n",
    "\n",
    "dt_model = DecisionTreeClassifier(class_weight = \"balanced\", random_state=101)\n",
    "dt_model.fit(X_train, y_train)\n",
    "eval_metric(dt_model, X_train, y_train, X_test, y_test)\n",
    "\n",
    "# datamız dengesiz olduğundan ve hedef labelımın skoru kötü olduğundan direk class_weight = \"balanced\" kullandım. Dengesiz\n",
    "# data setlerinde class_weight'i gridsearche vermeye gerek yok."
   ]
  },
  {
   "cell_type": "code",
   "execution_count": 11,
   "id": "222edc03",
   "metadata": {},
   "outputs": [],
   "source": [
    "from sklearn.metrics import make_scorer\n",
    "from sklearn.model_selection import cross_validate, cross_val_score\n",
    "from sklearn.model_selection import GridSearchCV"
   ]
  },
  {
   "cell_type": "code",
   "execution_count": 12,
   "id": "a7efcc16",
   "metadata": {},
   "outputs": [
    {
     "data": {
      "text/plain": [
       "test_accuracy      0.711766\n",
       "train_accuracy     1.000000\n",
       "test_precision     0.589251\n",
       "train_precision    1.000000\n",
       "test_recall        0.551316\n",
       "train_recall       1.000000\n",
       "test_f1            0.565202\n",
       "train_f1           1.000000\n",
       "dtype: float64"
      ]
     },
     "execution_count": 12,
     "metadata": {},
     "output_type": "execute_result"
    }
   ],
   "source": [
    "from sklearn.model_selection import StratifiedKFold\n",
    "\n",
    "model = DecisionTreeClassifier(class_weight = \"balanced\", random_state=101)\n",
    "\n",
    "\n",
    "cv = StratifiedKFold(n_splits=10)\n",
    "scores = cross_validate(model, X_train, y_train, scoring = ['accuracy', 'precision', 'recall', 'f1'],\n",
    "                        cv = cv, return_train_score=True)\n",
    "df_scores = pd.DataFrame(scores, index = range(1, 11))\n",
    "\n",
    "df_scores.mean()[2:]\n",
    "\n",
    "# overfitingi teyit ediyorum."
   ]
  },
  {
   "cell_type": "code",
   "execution_count": 13,
   "id": "9194c30c",
   "metadata": {},
   "outputs": [],
   "source": [
    "param_grid = {\"splitter\":[\"best\", \"random\"],\n",
    "              \"max_features\":[None, 3, 5, 7],\n",
    "              \"max_depth\": [None, 2, 3],\n",
    "              \"min_samples_leaf\": [2, 3, 5],\n",
    "              \"min_samples_split\": [2, 3,4,5]}"
   ]
  },
  {
   "cell_type": "code",
   "execution_count": 14,
   "id": "231e7e0b",
   "metadata": {},
   "outputs": [
    {
     "name": "stdout",
     "output_type": "stream",
     "text": [
      "Fitting 10 folds for each of 288 candidates, totalling 2880 fits\n"
     ]
    }
   ],
   "source": [
    "model = DecisionTreeClassifier(class_weight=\"balanced\", random_state=101)\n",
    "\n",
    "cv = StratifiedKFold(n_splits=10)\n",
    "dt_grid_model = GridSearchCV(estimator=model,\n",
    "                            param_grid=param_grid,\n",
    "                            scoring='recall',\n",
    "                            cv = cv,\n",
    "                            n_jobs = -1, verbose = 2).fit(X_train, y_train)"
   ]
  },
  {
   "cell_type": "code",
   "execution_count": 15,
   "id": "b75e57ae",
   "metadata": {},
   "outputs": [
    {
     "data": {
      "text/plain": [
       "{'max_depth': 2,\n",
       " 'max_features': None,\n",
       " 'min_samples_leaf': 2,\n",
       " 'min_samples_split': 2,\n",
       " 'splitter': 'random'}"
      ]
     },
     "execution_count": 15,
     "metadata": {},
     "output_type": "execute_result"
    }
   ],
   "source": [
    "dt_grid_model.best_params_"
   ]
  },
  {
   "cell_type": "code",
   "execution_count": 16,
   "id": "fe5c6922",
   "metadata": {},
   "outputs": [
    {
     "data": {
      "text/html": [
       "<style>#sk-container-id-1 {color: black;background-color: white;}#sk-container-id-1 pre{padding: 0;}#sk-container-id-1 div.sk-toggleable {background-color: white;}#sk-container-id-1 label.sk-toggleable__label {cursor: pointer;display: block;width: 100%;margin-bottom: 0;padding: 0.3em;box-sizing: border-box;text-align: center;}#sk-container-id-1 label.sk-toggleable__label-arrow:before {content: \"▸\";float: left;margin-right: 0.25em;color: #696969;}#sk-container-id-1 label.sk-toggleable__label-arrow:hover:before {color: black;}#sk-container-id-1 div.sk-estimator:hover label.sk-toggleable__label-arrow:before {color: black;}#sk-container-id-1 div.sk-toggleable__content {max-height: 0;max-width: 0;overflow: hidden;text-align: left;background-color: #f0f8ff;}#sk-container-id-1 div.sk-toggleable__content pre {margin: 0.2em;color: black;border-radius: 0.25em;background-color: #f0f8ff;}#sk-container-id-1 input.sk-toggleable__control:checked~div.sk-toggleable__content {max-height: 200px;max-width: 100%;overflow: auto;}#sk-container-id-1 input.sk-toggleable__control:checked~label.sk-toggleable__label-arrow:before {content: \"▾\";}#sk-container-id-1 div.sk-estimator input.sk-toggleable__control:checked~label.sk-toggleable__label {background-color: #d4ebff;}#sk-container-id-1 div.sk-label input.sk-toggleable__control:checked~label.sk-toggleable__label {background-color: #d4ebff;}#sk-container-id-1 input.sk-hidden--visually {border: 0;clip: rect(1px 1px 1px 1px);clip: rect(1px, 1px, 1px, 1px);height: 1px;margin: -1px;overflow: hidden;padding: 0;position: absolute;width: 1px;}#sk-container-id-1 div.sk-estimator {font-family: monospace;background-color: #f0f8ff;border: 1px dotted black;border-radius: 0.25em;box-sizing: border-box;margin-bottom: 0.5em;}#sk-container-id-1 div.sk-estimator:hover {background-color: #d4ebff;}#sk-container-id-1 div.sk-parallel-item::after {content: \"\";width: 100%;border-bottom: 1px solid gray;flex-grow: 1;}#sk-container-id-1 div.sk-label:hover label.sk-toggleable__label {background-color: #d4ebff;}#sk-container-id-1 div.sk-serial::before {content: \"\";position: absolute;border-left: 1px solid gray;box-sizing: border-box;top: 0;bottom: 0;left: 50%;z-index: 0;}#sk-container-id-1 div.sk-serial {display: flex;flex-direction: column;align-items: center;background-color: white;padding-right: 0.2em;padding-left: 0.2em;position: relative;}#sk-container-id-1 div.sk-item {position: relative;z-index: 1;}#sk-container-id-1 div.sk-parallel {display: flex;align-items: stretch;justify-content: center;background-color: white;position: relative;}#sk-container-id-1 div.sk-item::before, #sk-container-id-1 div.sk-parallel-item::before {content: \"\";position: absolute;border-left: 1px solid gray;box-sizing: border-box;top: 0;bottom: 0;left: 50%;z-index: -1;}#sk-container-id-1 div.sk-parallel-item {display: flex;flex-direction: column;z-index: 1;position: relative;background-color: white;}#sk-container-id-1 div.sk-parallel-item:first-child::after {align-self: flex-end;width: 50%;}#sk-container-id-1 div.sk-parallel-item:last-child::after {align-self: flex-start;width: 50%;}#sk-container-id-1 div.sk-parallel-item:only-child::after {width: 0;}#sk-container-id-1 div.sk-dashed-wrapped {border: 1px dashed gray;margin: 0 0.4em 0.5em 0.4em;box-sizing: border-box;padding-bottom: 0.4em;background-color: white;}#sk-container-id-1 div.sk-label label {font-family: monospace;font-weight: bold;display: inline-block;line-height: 1.2em;}#sk-container-id-1 div.sk-label-container {text-align: center;}#sk-container-id-1 div.sk-container {/* jupyter's `normalize.less` sets `[hidden] { display: none; }` but bootstrap.min.css set `[hidden] { display: none !important; }` so we also need the `!important` here to be able to override the default hidden behavior on the sphinx rendered scikit-learn.org. See: https://github.com/scikit-learn/scikit-learn/issues/21755 */display: inline-block !important;position: relative;}#sk-container-id-1 div.sk-text-repr-fallback {display: none;}</style><div id=\"sk-container-id-1\" class=\"sk-top-container\"><div class=\"sk-text-repr-fallback\"><pre>DecisionTreeClassifier(class_weight=&#x27;balanced&#x27;, max_depth=2, min_samples_leaf=2,\n",
       "                       random_state=101, splitter=&#x27;random&#x27;)</pre><b>In a Jupyter environment, please rerun this cell to show the HTML representation or trust the notebook. <br />On GitHub, the HTML representation is unable to render, please try loading this page with nbviewer.org.</b></div><div class=\"sk-container\" hidden><div class=\"sk-item\"><div class=\"sk-estimator sk-toggleable\"><input class=\"sk-toggleable__control sk-hidden--visually\" id=\"sk-estimator-id-1\" type=\"checkbox\" checked><label for=\"sk-estimator-id-1\" class=\"sk-toggleable__label sk-toggleable__label-arrow\">DecisionTreeClassifier</label><div class=\"sk-toggleable__content\"><pre>DecisionTreeClassifier(class_weight=&#x27;balanced&#x27;, max_depth=2, min_samples_leaf=2,\n",
       "                       random_state=101, splitter=&#x27;random&#x27;)</pre></div></div></div></div></div>"
      ],
      "text/plain": [
       "DecisionTreeClassifier(class_weight='balanced', max_depth=2, min_samples_leaf=2,\n",
       "                       random_state=101, splitter='random')"
      ]
     },
     "execution_count": 16,
     "metadata": {},
     "output_type": "execute_result"
    }
   ],
   "source": [
    "dt_grid_model.best_estimator_"
   ]
  },
  {
   "cell_type": "code",
   "execution_count": 17,
   "id": "961ecd13",
   "metadata": {},
   "outputs": [
    {
     "name": "stdout",
     "output_type": "stream",
     "text": [
      "Test_Set\n",
      "[[33 62]\n",
      " [ 5 44]]\n",
      "              precision    recall  f1-score   support\n",
      "\n",
      "           0       0.87      0.35      0.50        95\n",
      "           1       0.42      0.90      0.57        49\n",
      "\n",
      "    accuracy                           0.53       144\n",
      "   macro avg       0.64      0.62      0.53       144\n",
      "weighted avg       0.71      0.53      0.52       144\n",
      "\n",
      "\n",
      "Train_Set\n",
      "[[133 245]\n",
      " [  8 190]]\n",
      "              precision    recall  f1-score   support\n",
      "\n",
      "           0       0.94      0.35      0.51       378\n",
      "           1       0.44      0.96      0.60       198\n",
      "\n",
      "    accuracy                           0.56       576\n",
      "   macro avg       0.69      0.66      0.56       576\n",
      "weighted avg       0.77      0.56      0.54       576\n",
      "\n"
     ]
    }
   ],
   "source": [
    "eval_metric(dt_grid_model, X_train, y_train, X_test, y_test)\n",
    "\n",
    "# overfiting yok görünüyor ama kesin teyidimizi CV'da yapacağız.\n",
    "\n",
    "# Hedef classımız Test datasındaki 1 scorlarını  CV'dan alacağımız validation setlerinin ortalama değeri ile karşılaştırıp \n",
    "# skorumuzu teyit edeceğiz."
   ]
  },
  {
   "cell_type": "code",
   "execution_count": 18,
   "id": "e22aa9c4",
   "metadata": {},
   "outputs": [
    {
     "data": {
      "text/plain": [
       "test_accuracy      0.559074\n",
       "train_accuracy     0.563274\n",
       "test_precision     0.437143\n",
       "train_precision    0.438265\n",
       "test_recall        0.959474\n",
       "train_recall       0.959595\n",
       "test_f1            0.600060\n",
       "train_f1           0.601704\n",
       "dtype: float64"
      ]
     },
     "execution_count": 18,
     "metadata": {},
     "output_type": "execute_result"
    }
   ],
   "source": [
    "model = DecisionTreeClassifier(class_weight='balanced', max_depth=2, min_samples_leaf=2,\n",
    "                       random_state=101, splitter='random')\n",
    "\n",
    "cv = StratifiedKFold(n_splits=10)\n",
    "scores = cross_validate(model, X_train, y_train, scoring = ['accuracy', 'precision', 'recall', 'f1'],\n",
    "                        cv = cv, return_train_score=True)\n",
    "df_scores = pd.DataFrame(scores, index = range(1, 11))\n",
    "\n",
    "df_scores.mean()[2:]\n",
    "\n",
    "# Overfiting yok. Test datasındaki 1 classının skorları ile validation setinin skorları tutarlı."
   ]
  },
  {
   "cell_type": "code",
   "execution_count": 20,
   "id": "9d076c3f",
   "metadata": {},
   "outputs": [],
   "source": [
    "#pip install scikit-plot"
   ]
  },
  {
   "cell_type": "code",
   "execution_count": 21,
   "id": "c1bd9bc2",
   "metadata": {},
   "outputs": [],
   "source": [
    "#import sklearn\n",
    "#print(sklearn.__version__)"
   ]
  },
  {
   "cell_type": "code",
   "execution_count": 19,
   "id": "2357eca3",
   "metadata": {},
   "outputs": [],
   "source": [
    "from sklearn.metrics import precision_recall_curve, plot_precision_recall_curve, plot_roc_curve, roc_auc_score, roc_curve,\\\n",
    "                            average_precision_score"
   ]
  },
  {
   "cell_type": "code",
   "execution_count": 20,
   "id": "23fb07f7",
   "metadata": {},
   "outputs": [
    {
     "data": {
      "image/png": "[encoded data removed]",
      "text/plain": [
       "<Figure size 700x400 with 1 Axes>"
      ]
     },
     "metadata": {},
     "output_type": "display_data"
    }
   ],
   "source": [
    "plot_precision_recall_curve(dt_grid_model, X_test, y_test);\n",
    "\n",
    "#datam imbalanced olduğu için precision_recall a baktık.\n",
    "# modelin genel performansı çok düşük."
   ]
  },
  {
   "cell_type": "markdown",
   "id": "265aa5ef",
   "metadata": {},
   "source": [
    "### Random Forest"
   ]
  },
  {
   "cell_type": "code",
   "execution_count": 21,
   "id": "3fc963b1",
   "metadata": {},
   "outputs": [],
   "source": [
    "from sklearn.pipeline import Pipeline\n",
    "from sklearn.ensemble import RandomForestClassifier"
   ]
  },
  {
   "cell_type": "code",
   "execution_count": 22,
   "id": "1948bc0d",
   "metadata": {},
   "outputs": [
    {
     "data": {
      "text/html": [
       "<style>#sk-container-id-2 {color: black;background-color: white;}#sk-container-id-2 pre{padding: 0;}#sk-container-id-2 div.sk-toggleable {background-color: white;}#sk-container-id-2 label.sk-toggleable__label {cursor: pointer;display: block;width: 100%;margin-bottom: 0;padding: 0.3em;box-sizing: border-box;text-align: center;}#sk-container-id-2 label.sk-toggleable__label-arrow:before {content: \"▸\";float: left;margin-right: 0.25em;color: #696969;}#sk-container-id-2 label.sk-toggleable__label-arrow:hover:before {color: black;}#sk-container-id-2 div.sk-estimator:hover label.sk-toggleable__label-arrow:before {color: black;}#sk-container-id-2 div.sk-toggleable__content {max-height: 0;max-width: 0;overflow: hidden;text-align: left;background-color: #f0f8ff;}#sk-container-id-2 div.sk-toggleable__content pre {margin: 0.2em;color: black;border-radius: 0.25em;background-color: #f0f8ff;}#sk-container-id-2 input.sk-toggleable__control:checked~div.sk-toggleable__content {max-height: 200px;max-width: 100%;overflow: auto;}#sk-container-id-2 input.sk-toggleable__control:checked~label.sk-toggleable__label-arrow:before {content: \"▾\";}#sk-container-id-2 div.sk-estimator input.sk-toggleable__control:checked~label.sk-toggleable__label {background-color: #d4ebff;}#sk-container-id-2 div.sk-label input.sk-toggleable__control:checked~label.sk-toggleable__label {background-color: #d4ebff;}#sk-container-id-2 input.sk-hidden--visually {border: 0;clip: rect(1px 1px 1px 1px);clip: rect(1px, 1px, 1px, 1px);height: 1px;margin: -1px;overflow: hidden;padding: 0;position: absolute;width: 1px;}#sk-container-id-2 div.sk-estimator {font-family: monospace;background-color: #f0f8ff;border: 1px dotted black;border-radius: 0.25em;box-sizing: border-box;margin-bottom: 0.5em;}#sk-container-id-2 div.sk-estimator:hover {background-color: #d4ebff;}#sk-container-id-2 div.sk-parallel-item::after {content: \"\";width: 100%;border-bottom: 1px solid gray;flex-grow: 1;}#sk-container-id-2 div.sk-label:hover label.sk-toggleable__label {background-color: #d4ebff;}#sk-container-id-2 div.sk-serial::before {content: \"\";position: absolute;border-left: 1px solid gray;box-sizing: border-box;top: 0;bottom: 0;left: 50%;z-index: 0;}#sk-container-id-2 div.sk-serial {display: flex;flex-direction: column;align-items: center;background-color: white;padding-right: 0.2em;padding-left: 0.2em;position: relative;}#sk-container-id-2 div.sk-item {position: relative;z-index: 1;}#sk-container-id-2 div.sk-parallel {display: flex;align-items: stretch;justify-content: center;background-color: white;position: relative;}#sk-container-id-2 div.sk-item::before, #sk-container-id-2 div.sk-parallel-item::before {content: \"\";position: absolute;border-left: 1px solid gray;box-sizing: border-box;top: 0;bottom: 0;left: 50%;z-index: -1;}#sk-container-id-2 div.sk-parallel-item {display: flex;flex-direction: column;z-index: 1;position: relative;background-color: white;}#sk-container-id-2 div.sk-parallel-item:first-child::after {align-self: flex-end;width: 50%;}#sk-container-id-2 div.sk-parallel-item:last-child::after {align-self: flex-start;width: 50%;}#sk-container-id-2 div.sk-parallel-item:only-child::after {width: 0;}#sk-container-id-2 div.sk-dashed-wrapped {border: 1px dashed gray;margin: 0 0.4em 0.5em 0.4em;box-sizing: border-box;padding-bottom: 0.4em;background-color: white;}#sk-container-id-2 div.sk-label label {font-family: monospace;font-weight: bold;display: inline-block;line-height: 1.2em;}#sk-container-id-2 div.sk-label-container {text-align: center;}#sk-container-id-2 div.sk-container {/* jupyter's `normalize.less` sets `[hidden] { display: none; }` but bootstrap.min.css set `[hidden] { display: none !important; }` so we also need the `!important` here to be able to override the default hidden behavior on the sphinx rendered scikit-learn.org. See: https://github.com/scikit-learn/scikit-learn/issues/21755 */display: inline-block !important;position: relative;}#sk-container-id-2 div.sk-text-repr-fallback {display: none;}</style><div id=\"sk-container-id-2\" class=\"sk-top-container\"><div class=\"sk-text-repr-fallback\"><pre>RandomForestClassifier(class_weight=&#x27;balanced&#x27;, random_state=101)</pre><b>In a Jupyter environment, please rerun this cell to show the HTML representation or trust the notebook. <br />On GitHub, the HTML representation is unable to render, please try loading this page with nbviewer.org.</b></div><div class=\"sk-container\" hidden><div class=\"sk-item\"><div class=\"sk-estimator sk-toggleable\"><input class=\"sk-toggleable__control sk-hidden--visually\" id=\"sk-estimator-id-2\" type=\"checkbox\" checked><label for=\"sk-estimator-id-2\" class=\"sk-toggleable__label sk-toggleable__label-arrow\">RandomForestClassifier</label><div class=\"sk-toggleable__content\"><pre>RandomForestClassifier(class_weight=&#x27;balanced&#x27;, random_state=101)</pre></div></div></div></div></div>"
      ],
      "text/plain": [
       "RandomForestClassifier(class_weight='balanced', random_state=101)"
      ]
     },
     "execution_count": 22,
     "metadata": {},
     "output_type": "execute_result"
    }
   ],
   "source": [
    "rf_model = RandomForestClassifier(class_weight = \"balanced\", random_state=101)\n",
    "rf_model.fit(X_train, y_train)\n",
    "\n",
    "# datamız dengesiz olduğundan ve hedef labelımın skoru kötü olduğundan direk class_weight = \"balanced\" kullandım. Dengesiz\n",
    "# data setlerinde class_weight'i gridsearche vermeye gerek yok."
   ]
  },
  {
   "cell_type": "code",
   "execution_count": 23,
   "id": "c64e3e0f",
   "metadata": {},
   "outputs": [
    {
     "name": "stdout",
     "output_type": "stream",
     "text": [
      "Test_Set\n",
      "[[83 12]\n",
      " [24 25]]\n",
      "              precision    recall  f1-score   support\n",
      "\n",
      "           0       0.78      0.87      0.82        95\n",
      "           1       0.68      0.51      0.58        49\n",
      "\n",
      "    accuracy                           0.75       144\n",
      "   macro avg       0.73      0.69      0.70       144\n",
      "weighted avg       0.74      0.75      0.74       144\n",
      "\n",
      "\n",
      "Train_Set\n",
      "[[378   0]\n",
      " [  0 198]]\n",
      "              precision    recall  f1-score   support\n",
      "\n",
      "           0       1.00      1.00      1.00       378\n",
      "           1       1.00      1.00      1.00       198\n",
      "\n",
      "    accuracy                           1.00       576\n",
      "   macro avg       1.00      1.00      1.00       576\n",
      "weighted avg       1.00      1.00      1.00       576\n",
      "\n"
     ]
    }
   ],
   "source": [
    "eval_metric(rf_model, X_train, y_train, X_test, y_test)\n",
    "\n",
    "# overfiting var görünüyor."
   ]
  },
  {
   "cell_type": "code",
   "execution_count": 24,
   "id": "1e407b17",
   "metadata": {},
   "outputs": [
    {
     "data": {
      "text/plain": [
       "test_accuracy      0.763944\n",
       "train_accuracy     1.000000\n",
       "test_precision     0.702761\n",
       "train_precision    1.000000\n",
       "test_recall        0.570000\n",
       "train_recall       1.000000\n",
       "test_f1            0.616765\n",
       "train_f1           1.000000\n",
       "dtype: float64"
      ]
     },
     "execution_count": 24,
     "metadata": {},
     "output_type": "execute_result"
    }
   ],
   "source": [
    "model = RandomForestClassifier(class_weight = \"balanced\", random_state=101)\n",
    "\n",
    "cv = StratifiedKFold(n_splits=10)\n",
    "scores = cross_validate(model, X_train, y_train, scoring = ['accuracy', 'precision', 'recall', 'f1'], cv = cv,\n",
    "                       return_train_score=True)\n",
    "df_scores = pd.DataFrame(scores, index = range(1, 11))\n",
    "\n",
    "df_scores.mean()[2:]\n",
    "\n",
    "# overfiting olduğunu teyit ettim."
   ]
  },
  {
   "cell_type": "markdown",
   "id": "72c1984d",
   "metadata": {},
   "source": [
    "### GridSearch"
   ]
  },
  {
   "cell_type": "code",
   "execution_count": 25,
   "id": "375c4528",
   "metadata": {},
   "outputs": [],
   "source": [
    "param_grid = {'n_estimators':[64, 128, 200],\n",
    "             'max_features':[2, 4, 'sqrt'],\n",
    "             'max_depth':[2, 3, 4],\n",
    "             'min_samples_split':[2, 3,4],\n",
    "             'min_samples_leaf': [2,3,4],\n",
    "             'max_samples':[0.8, 1]} # add 1"
   ]
  },
  {
   "cell_type": "code",
   "execution_count": 26,
   "id": "0cef84df",
   "metadata": {},
   "outputs": [
    {
     "name": "stdout",
     "output_type": "stream",
     "text": [
      "Fitting 5 folds for each of 486 candidates, totalling 2430 fits\n"
     ]
    }
   ],
   "source": [
    "model = RandomForestClassifier(class_weight={0:1, 1:4},random_state=101)\n",
    "rf_grid_model = GridSearchCV(model, param_grid, scoring = \"recall\", n_jobs = -1, verbose=2).fit(X_train, y_train)\n",
    "\n",
    "# class_weight=\"balanced\" yetersiz geldiğinden 1'e 4 oranında ağırlıklandırıldı."
   ]
  },
  {
   "cell_type": "code",
   "execution_count": 27,
   "id": "ed089400",
   "metadata": {},
   "outputs": [
    {
     "data": {
      "text/plain": [
       "{'max_depth': 2,\n",
       " 'max_features': 2,\n",
       " 'max_samples': 0.8,\n",
       " 'min_samples_leaf': 2,\n",
       " 'min_samples_split': 2,\n",
       " 'n_estimators': 64}"
      ]
     },
     "execution_count": 27,
     "metadata": {},
     "output_type": "execute_result"
    }
   ],
   "source": [
    "rf_grid_model.best_params_"
   ]
  },
  {
   "cell_type": "code",
   "execution_count": 28,
   "id": "4ae19012",
   "metadata": {},
   "outputs": [
    {
     "data": {
      "text/html": [
       "<style>#sk-container-id-3 {color: black;background-color: white;}#sk-container-id-3 pre{padding: 0;}#sk-container-id-3 div.sk-toggleable {background-color: white;}#sk-container-id-3 label.sk-toggleable__label {cursor: pointer;display: block;width: 100%;margin-bottom: 0;padding: 0.3em;box-sizing: border-box;text-align: center;}#sk-container-id-3 label.sk-toggleable__label-arrow:before {content: \"▸\";float: left;margin-right: 0.25em;color: #696969;}#sk-container-id-3 label.sk-toggleable__label-arrow:hover:before {color: black;}#sk-container-id-3 div.sk-estimator:hover label.sk-toggleable__label-arrow:before {color: black;}#sk-container-id-3 div.sk-toggleable__content {max-height: 0;max-width: 0;overflow: hidden;text-align: left;background-color: #f0f8ff;}#sk-container-id-3 div.sk-toggleable__content pre {margin: 0.2em;color: black;border-radius: 0.25em;background-color: #f0f8ff;}#sk-container-id-3 input.sk-toggleable__control:checked~div.sk-toggleable__content {max-height: 200px;max-width: 100%;overflow: auto;}#sk-container-id-3 input.sk-toggleable__control:checked~label.sk-toggleable__label-arrow:before {content: \"▾\";}#sk-container-id-3 div.sk-estimator input.sk-toggleable__control:checked~label.sk-toggleable__label {background-color: #d4ebff;}#sk-container-id-3 div.sk-label input.sk-toggleable__control:checked~label.sk-toggleable__label {background-color: #d4ebff;}#sk-container-id-3 input.sk-hidden--visually {border: 0;clip: rect(1px 1px 1px 1px);clip: rect(1px, 1px, 1px, 1px);height: 1px;margin: -1px;overflow: hidden;padding: 0;position: absolute;width: 1px;}#sk-container-id-3 div.sk-estimator {font-family: monospace;background-color: #f0f8ff;border: 1px dotted black;border-radius: 0.25em;box-sizing: border-box;margin-bottom: 0.5em;}#sk-container-id-3 div.sk-estimator:hover {background-color: #d4ebff;}#sk-container-id-3 div.sk-parallel-item::after {content: \"\";width: 100%;border-bottom: 1px solid gray;flex-grow: 1;}#sk-container-id-3 div.sk-label:hover label.sk-toggleable__label {background-color: #d4ebff;}#sk-container-id-3 div.sk-serial::before {content: \"\";position: absolute;border-left: 1px solid gray;box-sizing: border-box;top: 0;bottom: 0;left: 50%;z-index: 0;}#sk-container-id-3 div.sk-serial {display: flex;flex-direction: column;align-items: center;background-color: white;padding-right: 0.2em;padding-left: 0.2em;position: relative;}#sk-container-id-3 div.sk-item {position: relative;z-index: 1;}#sk-container-id-3 div.sk-parallel {display: flex;align-items: stretch;justify-content: center;background-color: white;position: relative;}#sk-container-id-3 div.sk-item::before, #sk-container-id-3 div.sk-parallel-item::before {content: \"\";position: absolute;border-left: 1px solid gray;box-sizing: border-box;top: 0;bottom: 0;left: 50%;z-index: -1;}#sk-container-id-3 div.sk-parallel-item {display: flex;flex-direction: column;z-index: 1;position: relative;background-color: white;}#sk-container-id-3 div.sk-parallel-item:first-child::after {align-self: flex-end;width: 50%;}#sk-container-id-3 div.sk-parallel-item:last-child::after {align-self: flex-start;width: 50%;}#sk-container-id-3 div.sk-parallel-item:only-child::after {width: 0;}#sk-container-id-3 div.sk-dashed-wrapped {border: 1px dashed gray;margin: 0 0.4em 0.5em 0.4em;box-sizing: border-box;padding-bottom: 0.4em;background-color: white;}#sk-container-id-3 div.sk-label label {font-family: monospace;font-weight: bold;display: inline-block;line-height: 1.2em;}#sk-container-id-3 div.sk-label-container {text-align: center;}#sk-container-id-3 div.sk-container {/* jupyter's `normalize.less` sets `[hidden] { display: none; }` but bootstrap.min.css set `[hidden] { display: none !important; }` so we also need the `!important` here to be able to override the default hidden behavior on the sphinx rendered scikit-learn.org. See: https://github.com/scikit-learn/scikit-learn/issues/21755 */display: inline-block !important;position: relative;}#sk-container-id-3 div.sk-text-repr-fallback {display: none;}</style><div id=\"sk-container-id-3\" class=\"sk-top-container\"><div class=\"sk-text-repr-fallback\"><pre>RandomForestClassifier(class_weight={0: 1, 1: 4}, max_depth=2, max_features=2,\n",
       "                       max_samples=0.8, min_samples_leaf=2, n_estimators=64,\n",
       "                       random_state=101)</pre><b>In a Jupyter environment, please rerun this cell to show the HTML representation or trust the notebook. <br />On GitHub, the HTML representation is unable to render, please try loading this page with nbviewer.org.</b></div><div class=\"sk-container\" hidden><div class=\"sk-item\"><div class=\"sk-estimator sk-toggleable\"><input class=\"sk-toggleable__control sk-hidden--visually\" id=\"sk-estimator-id-3\" type=\"checkbox\" checked><label for=\"sk-estimator-id-3\" class=\"sk-toggleable__label sk-toggleable__label-arrow\">RandomForestClassifier</label><div class=\"sk-toggleable__content\"><pre>RandomForestClassifier(class_weight={0: 1, 1: 4}, max_depth=2, max_features=2,\n",
       "                       max_samples=0.8, min_samples_leaf=2, n_estimators=64,\n",
       "                       random_state=101)</pre></div></div></div></div></div>"
      ],
      "text/plain": [
       "RandomForestClassifier(class_weight={0: 1, 1: 4}, max_depth=2, max_features=2,\n",
       "                       max_samples=0.8, min_samples_leaf=2, n_estimators=64,\n",
       "                       random_state=101)"
      ]
     },
     "execution_count": 28,
     "metadata": {},
     "output_type": "execute_result"
    }
   ],
   "source": [
    "rf_grid_model.best_estimator_"
   ]
  },
  {
   "cell_type": "code",
   "execution_count": 29,
   "id": "af80892a",
   "metadata": {},
   "outputs": [
    {
     "data": {
      "text/plain": [
       "0.9597435897435898"
      ]
     },
     "execution_count": 29,
     "metadata": {},
     "output_type": "execute_result"
    }
   ],
   "source": [
    "rf_grid_model.best_score_"
   ]
  },
  {
   "cell_type": "code",
   "execution_count": 30,
   "id": "aa937cd7",
   "metadata": {},
   "outputs": [
    {
     "name": "stdout",
     "output_type": "stream",
     "text": [
      "Test_Set\n",
      "[[45 50]\n",
      " [ 5 44]]\n",
      "              precision    recall  f1-score   support\n",
      "\n",
      "           0       0.90      0.47      0.62        95\n",
      "           1       0.47      0.90      0.62        49\n",
      "\n",
      "    accuracy                           0.62       144\n",
      "   macro avg       0.68      0.69      0.62       144\n",
      "weighted avg       0.75      0.62      0.62       144\n",
      "\n",
      "\n",
      "Train_Set\n",
      "[[154 224]\n",
      " [  3 195]]\n",
      "              precision    recall  f1-score   support\n",
      "\n",
      "           0       0.98      0.41      0.58       378\n",
      "           1       0.47      0.98      0.63       198\n",
      "\n",
      "    accuracy                           0.61       576\n",
      "   macro avg       0.72      0.70      0.60       576\n",
      "weighted avg       0.80      0.61      0.60       576\n",
      "\n"
     ]
    }
   ],
   "source": [
    "eval_metric(rf_grid_model, X_train, y_train, X_test, y_test)\n",
    "\n",
    "# overfiting giderilmiş görünüyor ama kesin teyidimizi CV'da yapacağız.\n",
    "\n",
    "# Hedef classımız Test datasındaki 1 scorlarını  CV'dan alacağımız validation setlerinin ortalama değeri ile karşılaştırıp \n",
    "# skorumuzu teyit edeceğiz."
   ]
  },
  {
   "cell_type": "code",
   "execution_count": 31,
   "id": "f98f602f",
   "metadata": {},
   "outputs": [
    {
     "data": {
      "text/plain": [
       "test_accuracy      0.604144\n",
       "train_accuracy     0.614193\n",
       "test_precision     0.464524\n",
       "train_precision    0.470670\n",
       "test_recall        0.965000\n",
       "train_recall       0.979242\n",
       "test_f1            0.626629\n",
       "train_f1           0.635736\n",
       "dtype: float64"
      ]
     },
     "execution_count": 31,
     "metadata": {},
     "output_type": "execute_result"
    }
   ],
   "source": [
    "model = RandomForestClassifier(class_weight={0: 1, 1: 4}, max_depth=2, max_features=2,\n",
    "                       max_samples=0.8, min_samples_leaf=2, n_estimators=64,\n",
    "                       random_state=101)\n",
    "\n",
    "cv = StratifiedKFold(n_splits=10)\n",
    "\n",
    "scores = cross_validate(model, X_train, y_train, scoring = ['accuracy', 'precision', 'recall', 'f1'],\n",
    "                        cv = cv, return_train_score=True)\n",
    "df_scores = pd.DataFrame(scores, index = range(1, 11))\n",
    "\n",
    "df_scores.mean()[2:]\n",
    "\n",
    "# Overfiting olmadığını teyit ettim. Test datasındaki 1 classının skorları ile validation setinin skorları tutarlı."
   ]
  },
  {
   "cell_type": "code",
   "execution_count": 32,
   "id": "16dd4c33",
   "metadata": {},
   "outputs": [
    {
     "data": {
      "image/png": "[encoded data removed]",
      "text/plain": [
       "<Figure size 700x400 with 1 Axes>"
      ]
     },
     "metadata": {},
     "output_type": "display_data"
    }
   ],
   "source": [
    "plot_precision_recall_curve(rf_grid_model, X_test, y_test);\n",
    "\n",
    "# RF modelin genel performancı DT'den çok daha iyi"
   ]
  },
  {
   "cell_type": "code",
   "execution_count": 33,
   "id": "40ee8523",
   "metadata": {},
   "outputs": [
    {
     "name": "stderr",
     "output_type": "stream",
     "text": [
      "'[image.png]' is not recognized as an internal or external command,\n",
      "operable program or batch file.\n"
     ]
    }
   ],
   "source": [
    "![image.png](attachment:image.png)"
   ]
  },
  {
   "cell_type": "code",
   "execution_count": null,
   "id": "5f24622e",
   "metadata": {},
   "outputs": [],
   "source": []
  }
 ],
 "metadata": {
  "kernelspec": {
   "display_name": "Python 3 (ipykernel)",
   "language": "python",
   "name": "python3"
  },
  "language_info": {
   "codemirror_mode": {
    "name": "ipython",
    "version": 3
   },
   "file_extension": ".py",
   "mimetype": "text/x-python",
   "name": "python",
   "nbconvert_exporter": "python",
   "pygments_lexer": "ipython3",
   "version": "3.9.13"
  },
  "varInspector": {
   "cols": {
    "lenName": 16,
    "lenType": 16,
    "lenVar": 40
   },
   "kernels_config": {
    "python": {
     "delete_cmd_postfix": "",
     "delete_cmd_prefix": "del ",
     "library": "var_list.py",
     "varRefreshCmd": "print(var_dic_list())"
    },
    "r": {
     "delete_cmd_postfix": ") ",
     "delete_cmd_prefix": "rm(",
     "library": "var_list.r",
     "varRefreshCmd": "cat(var_dic_list()) "
    }
   },
   "types_to_exclude": [
    "module",
    "function",
    "builtin_function_or_method",
    "instance",
    "_Feature"
   ],
   "window_display": false
  }
 },
 "nbformat": 4,
 "nbformat_minor": 5
}
