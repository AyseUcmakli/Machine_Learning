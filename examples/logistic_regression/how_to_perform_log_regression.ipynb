{
 "cells": [
  {
   "cell_type": "markdown",
   "id": "529df3f2",
   "metadata": {},
   "source": [
    "# Import the required modules"
   ]
  },
  {
   "cell_type": "code",
   "execution_count": 4,
   "id": "d00ec904",
   "metadata": {},
   "outputs": [],
   "source": [
    "from sklearn.datasets import make_classification  # used to generate dataset\n",
    "from matplotlib import pyplot as plt\n",
    "from sklearn.linear_model import LogisticRegression  #Used for performing logistic regression\n",
    "from sklearn.model_selection import train_test_split  # used to split dataset into training and test datasets\n",
    "from sklearn.metrics import confusion_matrix  #used to generate the confusion matrix of the classifiers\n",
    "import pandas as pd"
   ]
  },
  {
   "cell_type": "markdown",
   "id": "d8277e95",
   "metadata": {},
   "source": [
    "# Generate the dataset"
   ]
  },
  {
   "cell_type": "markdown",
   "id": "4fd0bdba",
   "metadata": {},
   "source": [
    "Now we need to generate the dataset using the make_classification() function. \n",
    "\n",
    "we need to specify the number of samples, the number of feature, number of classes and other parameters."
   ]
  },
  {
   "cell_type": "code",
   "execution_count": 43,
   "id": "b99303ef",
   "metadata": {},
   "outputs": [],
   "source": [
    "# Generate and dataset for Logistic Regression\n",
    "x, y = make_classification(\n",
    "    n_samples=100,\n",
    "    n_features=1,\n",
    "    n_classes=2,\n",
    "    n_clusters_per_class=1,\n",
    "    flip_y=0.03,\n",
    "    n_informative=1,\n",
    "    n_redundant=0,\n",
    "    n_repeated=0\n",
    ")"
   ]
  },
  {
   "cell_type": "code",
   "execution_count": 44,
   "id": "c6d50ece",
   "metadata": {},
   "outputs": [
    {
     "data": {
      "text/plain": [
       "array([[-0.97774943],\n",
       "       [-0.96296163],\n",
       "       [ 0.78526638],\n",
       "       [-0.97628032],\n",
       "       [ 0.97633895],\n",
       "       [ 0.71894567],\n",
       "       [ 0.85417087],\n",
       "       [-0.97553215],\n",
       "       [ 0.82046024],\n",
       "       [ 1.07467935],\n",
       "       [-1.01160835],\n",
       "       [ 1.25945671],\n",
       "       [ 0.79285753],\n",
       "       [ 1.08904926],\n",
       "       [-1.02667564],\n",
       "       [-1.05102371],\n",
       "       [ 1.62387468],\n",
       "       [-0.99680512],\n",
       "       [ 1.01704857],\n",
       "       [ 0.51545173],\n",
       "       [-0.95483882],\n",
       "       [ 0.30201513],\n",
       "       [-0.9776403 ],\n",
       "       [ 0.79563432],\n",
       "       [-1.00849747],\n",
       "       [-1.05224625],\n",
       "       [ 0.85239428],\n",
       "       [ 1.24075792],\n",
       "       [-0.92803645],\n",
       "       [-0.98127045],\n",
       "       [ 0.9076609 ],\n",
       "       [-0.9871925 ],\n",
       "       [ 1.30324598],\n",
       "       [-1.00058953],\n",
       "       [ 1.06867982],\n",
       "       [-0.96727905],\n",
       "       [ 0.87967324],\n",
       "       [ 0.70607246],\n",
       "       [ 1.01395998],\n",
       "       [ 0.84365453],\n",
       "       [ 1.34937491],\n",
       "       [-0.9970385 ],\n",
       "       [ 1.01482308],\n",
       "       [ 0.80337976],\n",
       "       [-1.00433155],\n",
       "       [-1.02492795],\n",
       "       [-1.04730798],\n",
       "       [ 0.65662491],\n",
       "       [-1.01095174],\n",
       "       [-1.0336643 ],\n",
       "       [ 0.63520086],\n",
       "       [ 0.77881617],\n",
       "       [-0.96782301],\n",
       "       [-1.02311169],\n",
       "       [-0.97366744],\n",
       "       [ 1.03122389],\n",
       "       [ 1.32316695],\n",
       "       [ 0.11355563],\n",
       "       [-1.02797971],\n",
       "       [-0.96280072],\n",
       "       [ 0.74424567],\n",
       "       [ 1.22214384],\n",
       "       [ 0.84649217],\n",
       "       [-1.03706431],\n",
       "       [ 0.52971129],\n",
       "       [ 1.62329353],\n",
       "       [-0.94762712],\n",
       "       [-1.01019291],\n",
       "       [-1.06117235],\n",
       "       [ 0.73547823],\n",
       "       [-1.01749755],\n",
       "       [ 0.53580369],\n",
       "       [ 1.05438044],\n",
       "       [-0.9826757 ],\n",
       "       [-0.99702349],\n",
       "       [ 1.34527622],\n",
       "       [-0.95076347],\n",
       "       [-0.99396581],\n",
       "       [-0.9716198 ],\n",
       "       [ 1.0668052 ],\n",
       "       [-1.03238809],\n",
       "       [-1.03075108],\n",
       "       [-1.00750951],\n",
       "       [ 0.94746357],\n",
       "       [ 0.62552188],\n",
       "       [ 1.02380863],\n",
       "       [-1.02630497],\n",
       "       [-0.9872607 ],\n",
       "       [-1.0432995 ],\n",
       "       [ 1.82858132],\n",
       "       [-0.98731679],\n",
       "       [-1.01777261],\n",
       "       [-0.95869298],\n",
       "       [-1.02894928],\n",
       "       [ 1.01192057],\n",
       "       [ 1.56535254],\n",
       "       [-1.04249846],\n",
       "       [ 1.21148078],\n",
       "       [-1.02420793],\n",
       "       [ 0.99589377]])"
      ]
     },
     "execution_count": 44,
     "metadata": {},
     "output_type": "execute_result"
    }
   ],
   "source": [
    "x"
   ]
  },
  {
   "cell_type": "code",
   "execution_count": 45,
   "id": "f2148aa9",
   "metadata": {},
   "outputs": [
    {
     "data": {
      "text/plain": [
       "array([0, 0, 1, 0, 1, 1, 1, 0, 1, 1, 0, 1, 1, 1, 0, 0, 1, 0, 1, 1, 0, 1,\n",
       "       0, 1, 0, 0, 1, 1, 0, 0, 1, 0, 1, 0, 1, 0, 1, 1, 0, 1, 1, 0, 1, 1,\n",
       "       0, 0, 0, 1, 0, 0, 1, 1, 0, 0, 0, 1, 1, 1, 0, 0, 1, 1, 1, 0, 1, 1,\n",
       "       0, 0, 0, 1, 0, 1, 1, 0, 0, 1, 0, 0, 0, 1, 0, 0, 0, 1, 1, 1, 0, 0,\n",
       "       0, 1, 0, 0, 0, 0, 1, 1, 0, 1, 0, 1])"
      ]
     },
     "execution_count": 45,
     "metadata": {},
     "output_type": "execute_result"
    }
   ],
   "source": [
    "y"
   ]
  },
  {
   "cell_type": "markdown",
   "id": "260a992b",
   "metadata": {},
   "source": [
    "#  Visualize the Data"
   ]
  },
  {
   "cell_type": "markdown",
   "id": "ec3c0677",
   "metadata": {},
   "source": [
    "Now we would create a simple scatter plot just to see how the data looks like."
   ]
  },
  {
   "cell_type": "code",
   "execution_count": 46,
   "id": "2ec668f1",
   "metadata": {},
   "outputs": [
    {
     "data": {
      "image/png": "[encoded data removed]",
      "text/plain": [
       "<Figure size 432x288 with 1 Axes>"
      ]
     },
     "metadata": {
      "needs_background": "light"
     },
     "output_type": "display_data"
    }
   ],
   "source": [
    "# Create a scatter plot\n",
    "plt.scatter(x, y, c=y, cmap='rainbow')\n",
    "plt.title('Scatter Plot of Logistic Regression')\n",
    "plt.show()"
   ]
  },
  {
   "cell_type": "markdown",
   "id": "454bbb46",
   "metadata": {},
   "source": [
    "# Split the Dataset"
   ]
  },
  {
   "cell_type": "markdown",
   "id": "54d67815",
   "metadata": {},
   "source": [
    "Now we would split the dataset into training dataset and test dataset.\n",
    "\n",
    "The training dataset is used to train the model \n",
    "while the test dataset is used to test the model’s performance on new data"
   ]
  },
  {
   "cell_type": "code",
   "execution_count": 47,
   "id": "c5c19c81",
   "metadata": {},
   "outputs": [],
   "source": [
    "x_train, x_test, y_train, y_test = train_test_split(x, y, random_state=1)"
   ]
  },
  {
   "cell_type": "code",
   "execution_count": 48,
   "id": "045be493",
   "metadata": {},
   "outputs": [
    {
     "name": "stdout",
     "output_type": "stream",
     "text": [
      "(75, 1)\n",
      "(25, 1)\n",
      "(75,)\n",
      "(25, 1)\n"
     ]
    }
   ],
   "source": [
    "print(x_train.shape)\n",
    "print(x_test.shape)\n",
    "print(y_train.shape)\n",
    "print(x_test.shape)"
   ]
  },
  {
   "cell_type": "markdown",
   "id": "1d38bb35",
   "metadata": {},
   "source": [
    "# Perform Logistic Regression"
   ]
  },
  {
   "cell_type": "code",
   "execution_count": 49,
   "id": "84f2e524",
   "metadata": {},
   "outputs": [
    {
     "data": {
      "text/html": [
       "<style>#sk-container-id-4 {color: black;background-color: white;}#sk-container-id-4 pre{padding: 0;}#sk-container-id-4 div.sk-toggleable {background-color: white;}#sk-container-id-4 label.sk-toggleable__label {cursor: pointer;display: block;width: 100%;margin-bottom: 0;padding: 0.3em;box-sizing: border-box;text-align: center;}#sk-container-id-4 label.sk-toggleable__label-arrow:before {content: \"▸\";float: left;margin-right: 0.25em;color: #696969;}#sk-container-id-4 label.sk-toggleable__label-arrow:hover:before {color: black;}#sk-container-id-4 div.sk-estimator:hover label.sk-toggleable__label-arrow:before {color: black;}#sk-container-id-4 div.sk-toggleable__content {max-height: 0;max-width: 0;overflow: hidden;text-align: left;background-color: #f0f8ff;}#sk-container-id-4 div.sk-toggleable__content pre {margin: 0.2em;color: black;border-radius: 0.25em;background-color: #f0f8ff;}#sk-container-id-4 input.sk-toggleable__control:checked~div.sk-toggleable__content {max-height: 200px;max-width: 100%;overflow: auto;}#sk-container-id-4 input.sk-toggleable__control:checked~label.sk-toggleable__label-arrow:before {content: \"▾\";}#sk-container-id-4 div.sk-estimator input.sk-toggleable__control:checked~label.sk-toggleable__label {background-color: #d4ebff;}#sk-container-id-4 div.sk-label input.sk-toggleable__control:checked~label.sk-toggleable__label {background-color: #d4ebff;}#sk-container-id-4 input.sk-hidden--visually {border: 0;clip: rect(1px 1px 1px 1px);clip: rect(1px, 1px, 1px, 1px);height: 1px;margin: -1px;overflow: hidden;padding: 0;position: absolute;width: 1px;}#sk-container-id-4 div.sk-estimator {font-family: monospace;background-color: #f0f8ff;border: 1px dotted black;border-radius: 0.25em;box-sizing: border-box;margin-bottom: 0.5em;}#sk-container-id-4 div.sk-estimator:hover {background-color: #d4ebff;}#sk-container-id-4 div.sk-parallel-item::after {content: \"\";width: 100%;border-bottom: 1px solid gray;flex-grow: 1;}#sk-container-id-4 div.sk-label:hover label.sk-toggleable__label {background-color: #d4ebff;}#sk-container-id-4 div.sk-serial::before {content: \"\";position: absolute;border-left: 1px solid gray;box-sizing: border-box;top: 0;bottom: 0;left: 50%;z-index: 0;}#sk-container-id-4 div.sk-serial {display: flex;flex-direction: column;align-items: center;background-color: white;padding-right: 0.2em;padding-left: 0.2em;position: relative;}#sk-container-id-4 div.sk-item {position: relative;z-index: 1;}#sk-container-id-4 div.sk-parallel {display: flex;align-items: stretch;justify-content: center;background-color: white;position: relative;}#sk-container-id-4 div.sk-item::before, #sk-container-id-4 div.sk-parallel-item::before {content: \"\";position: absolute;border-left: 1px solid gray;box-sizing: border-box;top: 0;bottom: 0;left: 50%;z-index: -1;}#sk-container-id-4 div.sk-parallel-item {display: flex;flex-direction: column;z-index: 1;position: relative;background-color: white;}#sk-container-id-4 div.sk-parallel-item:first-child::after {align-self: flex-end;width: 50%;}#sk-container-id-4 div.sk-parallel-item:last-child::after {align-self: flex-start;width: 50%;}#sk-container-id-4 div.sk-parallel-item:only-child::after {width: 0;}#sk-container-id-4 div.sk-dashed-wrapped {border: 1px dashed gray;margin: 0 0.4em 0.5em 0.4em;box-sizing: border-box;padding-bottom: 0.4em;background-color: white;}#sk-container-id-4 div.sk-label label {font-family: monospace;font-weight: bold;display: inline-block;line-height: 1.2em;}#sk-container-id-4 div.sk-label-container {text-align: center;}#sk-container-id-4 div.sk-container {/* jupyter's `normalize.less` sets `[hidden] { display: none; }` but bootstrap.min.css set `[hidden] { display: none !important; }` so we also need the `!important` here to be able to override the default hidden behavior on the sphinx rendered scikit-learn.org. See: https://github.com/scikit-learn/scikit-learn/issues/21755 */display: inline-block !important;position: relative;}#sk-container-id-4 div.sk-text-repr-fallback {display: none;}</style><div id=\"sk-container-id-4\" class=\"sk-top-container\"><div class=\"sk-text-repr-fallback\"><pre>LogisticRegression()</pre><b>In a Jupyter environment, please rerun this cell to show the HTML representation or trust the notebook. <br />On GitHub, the HTML representation is unable to render, please try loading this page with nbviewer.org.</b></div><div class=\"sk-container\" hidden><div class=\"sk-item\"><div class=\"sk-estimator sk-toggleable\"><input class=\"sk-toggleable__control sk-hidden--visually\" id=\"sk-estimator-id-4\" type=\"checkbox\" checked><label for=\"sk-estimator-id-4\" class=\"sk-toggleable__label sk-toggleable__label-arrow\">LogisticRegression</label><div class=\"sk-toggleable__content\"><pre>LogisticRegression()</pre></div></div></div></div></div>"
      ],
      "text/plain": [
       "LogisticRegression()"
      ]
     },
     "execution_count": 49,
     "metadata": {},
     "output_type": "execute_result"
    }
   ],
   "source": [
    "# Create a Logistic Regression Object, perform Logistic Regression\n",
    "log_reg = LogisticRegression()\n",
    "log_reg.fit(x_train, y_train)"
   ]
  },
  {
   "cell_type": "code",
   "execution_count": 50,
   "id": "61c13f88",
   "metadata": {},
   "outputs": [
    {
     "name": "stdout",
     "output_type": "stream",
     "text": [
      "[[2.92456008]]\n",
      "[0.03090739]\n"
     ]
    }
   ],
   "source": [
    "# Show to Coeficient and Intercept\n",
    "print(log_reg.coef_)\n",
    "print(log_reg.intercept_)"
   ]
  },
  {
   "cell_type": "markdown",
   "id": "4fe67d24",
   "metadata": {},
   "source": [
    "#  Make prediction using the model"
   ]
  },
  {
   "cell_type": "code",
   "execution_count": 51,
   "id": "e712761a",
   "metadata": {},
   "outputs": [
    {
     "data": {
      "text/plain": [
       "array([0, 1, 0, 0, 0, 0, 1, 0, 1, 1, 0, 1, 1, 0, 1, 1, 0, 0, 0, 0, 1, 0,\n",
       "       1, 1, 1])"
      ]
     },
     "execution_count": 51,
     "metadata": {},
     "output_type": "execute_result"
    }
   ],
   "source": [
    "# Perform prediction using the test dataset\n",
    "y_pred = log_reg.predict(x_test)\n",
    "y_pred"
   ]
  },
  {
   "cell_type": "markdown",
   "id": "c691a683",
   "metadata": {},
   "source": [
    "# Display the Confusion Matrix"
   ]
  },
  {
   "cell_type": "markdown",
   "id": "b1424fcd",
   "metadata": {},
   "source": [
    "The confusion matrix helps us to see how the model performed.\n",
    "\n",
    "It tells us the number of True positives, true negatives, false positives and false negatives.\n",
    "\n",
    "To see the confusion matrix:"
   ]
  },
  {
   "cell_type": "code",
   "execution_count": 52,
   "id": "bfbedbea",
   "metadata": {},
   "outputs": [
    {
     "data": {
      "text/plain": [
       "array([[13,  0],\n",
       "       [ 0, 12]], dtype=int64)"
      ]
     },
     "execution_count": 52,
     "metadata": {},
     "output_type": "execute_result"
    }
   ],
   "source": [
    "# Show the Confusion Matrix\n",
    "confusion_matrix(y_test, y_pred)"
   ]
  },
  {
   "cell_type": "code",
   "execution_count": 53,
   "id": "1a888d1b",
   "metadata": {},
   "outputs": [],
   "source": [
    "#We can deduce from the confusion matrix that:\n",
    "\n",
    "# True positive: 12 (upper-left) – Number of positives we predicted correctly\n",
    "# True negative: 13(lower-right) – Number of negatives we predicted correctly\n",
    "# False positive: 0 (top-right) – Number of positives we predicted wrongly\n",
    "# False negative:  0(lower-left) – Number of negatives we predicted wrongly"
   ]
  },
  {
   "attachments": {
    "C13314_06_05.webp": {
     "image/webp": "[encoded data removed]"
    }
   },
   "cell_type": "markdown",
   "id": "ddb5bc86",
   "metadata": {},
   "source": [
    "![C13314_06_05.webp](attachment:C13314_06_05.webp)"
   ]
  },
  {
   "cell_type": "code",
   "execution_count": null,
   "id": "d5067a5b",
   "metadata": {},
   "outputs": [],
   "source": []
  }
 ],
 "metadata": {
  "kernelspec": {
   "display_name": "Python 3 (ipykernel)",
   "language": "python",
   "name": "python3"
  },
  "language_info": {
   "codemirror_mode": {
    "name": "ipython",
    "version": 3
   },
   "file_extension": ".py",
   "mimetype": "text/x-python",
   "name": "python",
   "nbconvert_exporter": "python",
   "pygments_lexer": "ipython3",
   "version": "3.9.12"
  },
  "varInspector": {
   "cols": {
    "lenName": 16,
    "lenType": 16,
    "lenVar": 40
   },
   "kernels_config": {
    "python": {
     "delete_cmd_postfix": "",
     "delete_cmd_prefix": "del ",
     "library": "var_list.py",
     "varRefreshCmd": "print(var_dic_list())"
    },
    "r": {
     "delete_cmd_postfix": ") ",
     "delete_cmd_prefix": "rm(",
     "library": "var_list.r",
     "varRefreshCmd": "cat(var_dic_list()) "
    }
   },
   "types_to_exclude": [
    "module",
    "function",
    "builtin_function_or_method",
    "instance",
    "_Feature"
   ],
   "window_display": false
  }
 },
 "nbformat": 4,
 "nbformat_minor": 5
}
